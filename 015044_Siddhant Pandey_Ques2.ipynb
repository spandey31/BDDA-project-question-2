{
 "cells": [
  {
   "cell_type": "markdown",
   "metadata": {},
   "source": [
    "To perform prediction based on the details of patient"
   ]
  },
  {
   "cell_type": "markdown",
   "metadata": {},
   "source": [
    "1) Login to virtual machine\n",
    "2) Go to LXTerminal\n",
    "3) To start hadoop write ./allstart.sh\n",
    "4) Copy the required csv file to the local system through bitwise client\n",
    "5) Once hadoop gets started use command hadoop fs -put insurance.csv to import the file to hadoop\n",
    "6) After hadoop gets started write command pysparknb to start pyspark\n",
    "7) In pyspark take a jupyter notebook and start with the project"
   ]
  },
  {
   "cell_type": "code",
   "execution_count": 12,
   "metadata": {},
   "outputs": [],
   "source": [
    "from pyspark.sql import SparkSession"
   ]
  },
  {
   "cell_type": "code",
   "execution_count": 13,
   "metadata": {},
   "outputs": [],
   "source": [
    "spark= SparkSession.builder.appName('nlp').getOrCreate()"
   ]
  },
  {
   "cell_type": "code",
   "execution_count": 14,
   "metadata": {},
   "outputs": [],
   "source": [
    "#Importing all the necessary libraries\n",
    "import numpy as np\n",
    "\n",
    "from pyspark.ml.feature import StringIndexer, OneHotEncoder\n",
    "\n",
    "from pyspark.ml.feature import VectorAssembler\n",
    "from pyspark.ml.feature import MinMaxScaler, StandardScaler\n",
    "from pyspark.ml import Pipeline\n",
    "from pyspark.ml.classification import LogisticRegression\n",
    "from pyspark.ml.tuning import ParamGridBuilder, CrossValidator"
   ]
  },
  {
   "cell_type": "code",
   "execution_count": 15,
   "metadata": {},
   "outputs": [],
   "source": [
    "#Reading the dataset\n",
    "insurance= spark.read.csv('insurance.csv', header=True, inferSchema=True)"
   ]
  },
  {
   "cell_type": "code",
   "execution_count": 16,
   "metadata": {},
   "outputs": [
    {
     "name": "stdout",
     "output_type": "stream",
     "text": [
      "root\n",
      " |-- age: integer (nullable = true)\n",
      " |-- sex: string (nullable = true)\n",
      " |-- bmi: double (nullable = true)\n",
      " |-- children: integer (nullable = true)\n",
      " |-- smoker: string (nullable = true)\n",
      " |-- region: string (nullable = true)\n",
      " |-- charges: double (nullable = true)\n",
      "\n"
     ]
    }
   ],
   "source": [
    "insurance.printSchema()"
   ]
  },
  {
   "cell_type": "code",
   "execution_count": 17,
   "metadata": {},
   "outputs": [
    {
     "name": "stdout",
     "output_type": "stream",
     "text": [
      "+------+-----+\n",
      "|   sex|count|\n",
      "+------+-----+\n",
      "|female|  662|\n",
      "|  male|  676|\n",
      "+------+-----+\n",
      "\n"
     ]
    }
   ],
   "source": [
    "# Counting the dataset by sex\n",
    "insurance.groupBy('sex').count().show()"
   ]
  },
  {
   "cell_type": "code",
   "execution_count": 18,
   "metadata": {},
   "outputs": [
    {
     "name": "stdout",
     "output_type": "stream",
     "text": [
      "+------+-----+\n",
      "|smoker|count|\n",
      "+------+-----+\n",
      "|    no| 1064|\n",
      "|   yes|  274|\n",
      "+------+-----+\n",
      "\n"
     ]
    }
   ],
   "source": [
    "# Counting the dataset by smoker type\n",
    "insurance.groupBy('smoker').count().show()"
   ]
  },
  {
   "cell_type": "code",
   "execution_count": 19,
   "metadata": {},
   "outputs": [
    {
     "name": "stdout",
     "output_type": "stream",
     "text": [
      "+---------+-----+\n",
      "|   region|count|\n",
      "+---------+-----+\n",
      "|northwest|  325|\n",
      "|southeast|  364|\n",
      "|northeast|  324|\n",
      "|southwest|  325|\n",
      "+---------+-----+\n",
      "\n"
     ]
    }
   ],
   "source": [
    "# Counting the dataset by region\n",
    "insurance.groupBy('region').count().show()"
   ]
  },
  {
   "cell_type": "code",
   "execution_count": 20,
   "metadata": {},
   "outputs": [
    {
     "name": "stdout",
     "output_type": "stream",
     "text": [
      "+--------+-----+\n",
      "|children|count|\n",
      "+--------+-----+\n",
      "|       1|  324|\n",
      "|       3|  157|\n",
      "|       5|   18|\n",
      "|       4|   25|\n",
      "|       2|  240|\n",
      "|       0|  574|\n",
      "+--------+-----+\n",
      "\n"
     ]
    }
   ],
   "source": [
    "# Counting the dataset by children\n",
    "insurance.groupBy('children').count().show()"
   ]
  },
  {
   "cell_type": "markdown",
   "metadata": {},
   "source": [
    "String indexing has been in the dataset to index string values into integer values so as to perform feature engineering on the dataset and to also clean the dataset for modelling"
   ]
  },
  {
   "cell_type": "code",
   "execution_count": 23,
   "metadata": {},
   "outputs": [
    {
     "name": "stdout",
     "output_type": "stream",
     "text": [
      "+---+------+------+--------+------+---------+-----------+---------+--------------+------------+-------------+---------+---------+------------+\n",
      "|age|   sex|   bmi|children|smoker|   region|    charges|bmi_index|children_index|region_index|charges_index|age_index|sex_index|smoker_index|\n",
      "+---+------+------+--------+------+---------+-----------+---------+--------------+------------+-------------+---------+---------+------------+\n",
      "| 19|female|  27.9|       0|   yes|southwest|  16884.924|    412.0|           0.0|         2.0|        340.0|      1.0|      1.0|         1.0|\n",
      "| 18|  male| 33.77|       1|    no|southeast|  1725.5523|    283.0|           1.0|         0.0|        358.0|      0.0|      0.0|         0.0|\n",
      "| 28|  male|  33.0|       3|    no|southeast|   4449.462|     32.0|           3.0|         0.0|        891.0|     17.0|      0.0|         0.0|\n",
      "| 33|  male|22.705|       0|    no|northwest|21984.47061|    130.0|           0.0|         1.0|        500.0|     30.0|      0.0|         0.0|\n",
      "| 32|  male| 28.88|       0|    no|northwest|  3866.8552|      2.0|           0.0|         1.0|        783.0|     29.0|      0.0|         0.0|\n",
      "| 31|female| 25.74|       0|    no|southeast|  3756.6216|     77.0|           0.0|         0.0|        766.0|     23.0|      1.0|         0.0|\n",
      "| 46|female| 33.44|       1|    no|southeast|  8240.5896|    106.0|           1.0|         0.0|       1212.0|      4.0|      1.0|         0.0|\n",
      "| 37|female| 27.74|       3|    no|northwest|  7281.5056|     25.0|           3.0|         1.0|       1152.0|     37.0|      1.0|         0.0|\n",
      "| 37|  male| 29.83|       2|    no|northeast|  6406.4107|     27.0|           2.0|         3.0|       1085.0|     37.0|      0.0|         0.0|\n",
      "| 60|female| 25.84|       0|    no|northwest|28923.13692|     42.0|           0.0|         1.0|        641.0|     42.0|      1.0|         0.0|\n",
      "+---+------+------+--------+------+---------+-----------+---------+--------------+------------+-------------+---------+---------+------------+\n",
      "only showing top 10 rows\n",
      "\n"
     ]
    }
   ],
   "source": [
    "from pyspark.ml.feature import StringIndexer\n",
    "from pyspark.ml import Pipeline\n",
    "indexer = [StringIndexer(inputCol=column, outputCol=column+\"_index\").fit(insurance) for column in list(set(insurance.columns)-set(['Provider_Id, Provider_Zip_Code, Total_Discharges, Average_Covered_Charges, Average_Total_Payments, Average_Medicare_Payments'])) ]\n",
    "pipeline = Pipeline(stages=indexer)\n",
    "data = pipeline.fit(insurance).transform(insurance)\n",
    "data.show(10)"
   ]
  },
  {
   "cell_type": "code",
   "execution_count": 24,
   "metadata": {},
   "outputs": [
    {
     "name": "stdout",
     "output_type": "stream",
     "text": [
      "+--------------------+-----------+\n",
      "|            features|    charges|\n",
      "+--------------------+-----------+\n",
      "|[19.0,0.0,27.9,2....|  16884.924|\n",
      "|[18.0,1.0,33.77,0...|  1725.5523|\n",
      "|[28.0,3.0,33.0,0....|   4449.462|\n",
      "|[33.0,0.0,22.705,...|21984.47061|\n",
      "|[32.0,0.0,28.88,1...|  3866.8552|\n",
      "|[31.0,0.0,25.74,0...|  3756.6216|\n",
      "|[46.0,1.0,33.44,0...|  8240.5896|\n",
      "|[37.0,3.0,27.74,1...|  7281.5056|\n",
      "|[37.0,2.0,29.83,3...|  6406.4107|\n",
      "|[60.0,0.0,25.84,1...|28923.13692|\n",
      "+--------------------+-----------+\n",
      "only showing top 10 rows\n",
      "\n"
     ]
    }
   ],
   "source": [
    "from pyspark.mllib.regression import LabeledPoint\n",
    "from pyspark.ml.linalg import Vectors\n",
    "from pyspark.ml.feature import VectorAssembler\n",
    "\n",
    "# Vector Assembler is used\n",
    "assembler = VectorAssembler(\n",
    "    inputCols=[\"age\",\"children\",\"bmi\",\"region_index\", \"smoker_index\", \"sex_index\"], outputCol=\"features\")\n",
    "output = assembler.transform(data)\n",
    "output.select('features', 'charges').show(10)"
   ]
  },
  {
   "cell_type": "markdown",
   "metadata": {},
   "source": [
    "Splitting the dataset into train and test for modelling"
   ]
  },
  {
   "cell_type": "code",
   "execution_count": 26,
   "metadata": {},
   "outputs": [],
   "source": [
    "split = output.randomSplit([0.7, 0.3])\n",
    "train_data = split[0]\n",
    "test_data = split[1]"
   ]
  },
  {
   "cell_type": "markdown",
   "metadata": {},
   "source": [
    "Model training with the help of Linear Regression model"
   ]
  },
  {
   "cell_type": "code",
   "execution_count": 27,
   "metadata": {},
   "outputs": [],
   "source": [
    "from pyspark.ml.regression import LinearRegression\n",
    "from pyspark.ml.evaluation import RegressionEvaluator\n",
    "linr = LinearRegression(maxIter=6, regParam=0.0, labelCol='charges', solver=\"normal\")\n",
    "model = linr.fit(train_data)"
   ]
  },
  {
   "cell_type": "code",
   "execution_count": 34,
   "metadata": {},
   "outputs": [
    {
     "name": "stdout",
     "output_type": "stream",
     "text": [
      "RMSE: 5923.434330\n",
      "r2: 0.764535\n"
     ]
    }
   ],
   "source": [
    "# Finding the Model summary\n",
    "Summary = model.summary\n",
    "print(\"RMSE: %f\" % Summary.rootMeanSquaredError)\n",
    "print(\"r2: %f\" % Summary.r2)"
   ]
  },
  {
   "cell_type": "code",
   "execution_count": 35,
   "metadata": {},
   "outputs": [
    {
     "name": "stdout",
     "output_type": "stream",
     "text": [
      "+---+------+------+--------+------+---------+-----------+---------+--------------+------------+-------------+---------+---------+------------+--------------------+-------------------+\n",
      "|age|   sex|   bmi|children|smoker|   region|    charges|bmi_index|children_index|region_index|charges_index|age_index|sex_index|smoker_index|            features|         prediction|\n",
      "+---+------+------+--------+------+---------+-----------+---------+--------------+------------+-------------+---------+---------+------------+--------------------+-------------------+\n",
      "| 18|female| 20.79|       0|    no|southeast|  1607.5101|    353.0|           0.0|         0.0|        306.0|      0.0|      1.0|         0.0|[18.0,0.0,20.79,0...|-2227.4462131201926|\n",
      "| 18|female|26.315|       0|    no|northeast| 2198.18985|     44.0|           0.0|         3.0|        499.0|      0.0|      1.0|         0.0|[18.0,0.0,26.315,...|  981.0823568349751|\n",
      "| 18|female| 27.28|       3|   yes|southeast| 18223.4512|    408.0|           3.0|         0.0|        385.0|      0.0|      1.0|         1.0|[18.0,3.0,27.28,0...|   25747.9243905634|\n",
      "| 18|female|29.165|       0|    no|northeast|7323.734819|    421.0|           0.0|         3.0|       1153.0|      0.0|      1.0|         0.0|[18.0,0.0,29.165,...| 2012.2740291149948|\n",
      "| 18|female|30.115|       0|    no|northeast| 21344.8467|     29.0|           0.0|         3.0|        479.0|      0.0|      1.0|         0.0|[18.0,0.0,30.115,...|  2356.004586541667|\n",
      "| 18|female| 32.12|       2|    no|southeast|  2801.2588|    436.0|           2.0|         0.0|        628.0|      0.0|      1.0|         0.0|[18.0,2.0,32.12,0...| 2940.9602362885253|\n",
      "| 18|female| 36.85|       0|   yes|southeast| 36149.4835|     65.0|           0.0|         0.0|        743.0|      0.0|      1.0|         1.0|[18.0,0.0,36.85,0...| 27607.106567018294|\n",
      "| 18|female| 37.29|       1|    no|southeast|  2219.4451|    122.0|           1.0|         0.0|        511.0|      0.0|      1.0|         0.0|[18.0,1.0,37.29,0...|  4277.094474445226|\n",
      "| 18|female| 38.28|       0|    no|southeast|14133.03775|    193.0|           0.0|         0.0|        262.0|      0.0|      1.0|         0.0|[18.0,0.0,38.28,0...|   4100.81425992456|\n",
      "| 18|female| 40.26|       0|    no|southeast|  1634.5734|    313.0|           0.0|         0.0|        326.0|      0.0|      1.0|         0.0|[18.0,0.0,40.26,0...|  4817.221105929626|\n",
      "+---+------+------+--------+------+---------+-----------+---------+--------------+------------+-------------+---------+---------+------------+--------------------+-------------------+\n",
      "only showing top 10 rows\n",
      "\n"
     ]
    }
   ],
   "source": [
    "# Predicting the test dataset using the trained model\n",
    "predict = model.transform(test_data)\n",
    "predict.show(10)"
   ]
  },
  {
   "cell_type": "code",
   "execution_count": 36,
   "metadata": {},
   "outputs": [
    {
     "data": {
      "text/plain": [
       "(80.07647228457024, 6412.241413541546)"
      ]
     },
     "execution_count": 36,
     "metadata": {},
     "output_type": "execute_result"
    }
   ],
   "source": [
    "evaluator = RegressionEvaluator(labelCol=\"charges\")\n",
    "rmse = evaluator.evaluate(predict,{evaluator.metricName:\"rmse\" })\n",
    "np.sqrt(rmse), rmse"
   ]
  },
  {
   "cell_type": "code",
   "execution_count": 37,
   "metadata": {},
   "outputs": [
    {
     "name": "stdout",
     "output_type": "stream",
     "text": [
      "R Squared (R2) on test data = 0.706879\n"
     ]
    }
   ],
   "source": [
    "print(\"R Squared (R2) on test data = %g\" % evaluator.evaluate(predict,{evaluator.metricName:\"r2\" }))"
   ]
  },
  {
   "cell_type": "markdown",
   "metadata": {},
   "source": [
    "We are able to find out through analysis that by using the Linear Regression model on the dataset we are able to get RMSE score of 5923.4 and R2 value of 0.706 on the test dataset. Hence we can assume that the model is capable to make prediction og the charges based on the details of the patients and provides best fit for the trained model"
   ]
  }
 ],
 "metadata": {
  "kernelspec": {
   "display_name": "Python 3",
   "language": "python",
   "name": "python3"
  },
  "language_info": {
   "codemirror_mode": {
    "name": "ipython",
    "version": 3
   },
   "file_extension": ".py",
   "mimetype": "text/x-python",
   "name": "python",
   "nbconvert_exporter": "python",
   "pygments_lexer": "ipython3",
   "version": "3.8.5"
  }
 },
 "nbformat": 4,
 "nbformat_minor": 2
}
